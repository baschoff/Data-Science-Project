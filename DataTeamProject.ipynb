{
  "nbformat": 4,
  "nbformat_minor": 0,
  "metadata": {
    "colab": {
      "provenance": [],
      "include_colab_link": true
    },
    "kernelspec": {
      "name": "python3",
      "display_name": "Python 3"
    },
    "language_info": {
      "name": "python"
    }
  },
  "cells": [
    {
      "cell_type": "markdown",
      "metadata": {
        "id": "view-in-github",
        "colab_type": "text"
      },
      "source": [
        "<a href=\"https://colab.research.google.com/github/baschoff/Data-Science-Project/blob/main/DataTeamProject.ipynb\" target=\"_parent\"><img src=\"https://colab.research.google.com/assets/colab-badge.svg\" alt=\"Open In Colab\"/></a>"
      ]
    },
    {
      "cell_type": "markdown",
      "source": [
        "# Read in Data\n"
      ],
      "metadata": {
        "id": "iIyoL_LVTZLA"
      }
    },
    {
      "cell_type": "code",
      "source": [],
      "metadata": {
        "id": "8XJz3nawTXdY"
      },
      "execution_count": null,
      "outputs": []
    },
    {
      "cell_type": "code",
      "execution_count": null,
      "metadata": {
        "id": "fPmzPb_8bRSx"
      },
      "outputs": [],
      "source": []
    },
    {
      "cell_type": "markdown",
      "source": [
        "# (1)"
      ],
      "metadata": {
        "id": "UNP0KpGZTn2k"
      }
    },
    {
      "cell_type": "markdown",
      "source": [
        "# (2)"
      ],
      "metadata": {
        "id": "7hCdtHB0Todv"
      }
    }
  ]
}