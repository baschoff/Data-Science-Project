{
  "nbformat": 4,
  "nbformat_minor": 0,
  "metadata": {
    "colab": {
      "provenance": [],
      "include_colab_link": true
    },
    "kernelspec": {
      "name": "python3",
      "display_name": "Python 3"
    },
    "language_info": {
      "name": "python"
    }
  },
  "cells": [
    {
      "cell_type": "markdown",
      "metadata": {
        "id": "view-in-github",
        "colab_type": "text"
      },
      "source": [
        "<a href=\"https://colab.research.google.com/github/baschoff/Data-Science-Project/blob/main/Regression.ipynb\" target=\"_parent\"><img src=\"https://colab.research.google.com/assets/colab-badge.svg\" alt=\"Open In Colab\"/></a>"
      ]
    },
    {
      "cell_type": "markdown",
      "source": [
        "# Regression"
      ],
      "metadata": {
        "id": "dFAIC8qi0mOv"
      }
    },
    {
      "cell_type": "markdown",
      "source": [
        "# Read In"
      ],
      "metadata": {
        "id": "cIogHXxk49uX"
      }
    },
    {
      "cell_type": "code",
      "source": [
        "from google.colab import drive\n",
        "import pandas as pd\n",
        "import matplotlib.pyplot as plt\n",
        "import numpy as np\n",
        "import seaborn as sns\n",
        "\n",
        "!git clone https://github.com/baschoff/Data-Science-Project.git\n",
        "\n",
        "Zillow = pd.read_csv('/content/Data-Science-Project/Datasets/ZHVI.csv')\n",
        "ComRealPri = pd.read_csv('/content/Data-Science-Project/Datasets/Commercial Real Estate.csv')\n",
        "StickyPrice = pd.read_csv('/content/Data-Science-Project/Datasets/Sticky Price.csv')\n",
        "Inflation = pd.read_csv('/content/Data-Science-Project/Datasets/US_inflation_rates.csv')\n",
        "PPI_Glass = pd.read_csv('/content/Data-Science-Project/Datasets/PPI-Glass.csv')\n",
        "PPI_Lumber = pd.read_csv('/content/Data-Science-Project/Datasets/PPI-Lumber.csv')\n",
        "PPI_Asphalt = pd.read_csv('/content/Data-Science-Project/Datasets/PPI-Asphalt+Shingles.csv')\n",
        "PPI_Cement = pd.read_csv('/content/Data-Science-Project/Datasets/PPI-Cement+Concrete.csv')\n",
        "PPI_Plumbing = pd.read_csv('/content/Data-Science-Project/Datasets/PPI-Plumbing.csv')\n",
        "PPI_Metals = pd.read_csv('/content/Data-Science-Project/Datasets/PPI-Metal.csv')\n",
        "\n",
        "\n",
        "cN = PPI_Glass.columns.tolist()\n",
        "cN1 = PPI_Lumber.columns.tolist()\n",
        "cN2 = PPI_Asphalt.columns.tolist()\n",
        "cN3 = PPI_Cement.columns.tolist()\n",
        "cN4 = PPI_Plumbing.columns.tolist()\n",
        "cN5 = PPI_Metals.columns.tolist()\n",
        "cN6 = Inflation.columns.tolist()\n",
        "cN7 = StickyPrice.columns.tolist()\n",
        "cN8 = ComRealPri.columns.tolist()\n",
        "cN9 = Zillow.columns.tolist()"
      ],
      "metadata": {
        "id": "qutSQ1cX5Cu9",
        "outputId": "5cd39fc2-c199-49bd-bb82-630282366ee9",
        "colab": {
          "base_uri": "https://localhost:8080/"
        }
      },
      "execution_count": 1,
      "outputs": [
        {
          "output_type": "stream",
          "name": "stdout",
          "text": [
            "Cloning into 'Data-Science-Project'...\n",
            "remote: Enumerating objects: 48, done.\u001b[K\n",
            "remote: Counting objects: 100% (48/48), done.\u001b[K\n",
            "remote: Compressing objects: 100% (45/45), done.\u001b[K\n",
            "remote: Total 48 (delta 15), reused 0 (delta 0), pack-reused 0 (from 0)\u001b[K\n",
            "Receiving objects: 100% (48/48), 10.79 MiB | 6.26 MiB/s, done.\n",
            "Resolving deltas: 100% (15/15), done.\n"
          ]
        }
      ]
    },
    {
      "cell_type": "markdown",
      "source": [
        "# (1)\n"
      ],
      "metadata": {
        "id": "yOvMY5yV5Ehh"
      }
    },
    {
      "cell_type": "markdown",
      "source": [
        "# (2)"
      ],
      "metadata": {
        "id": "uqeHXt255E8o"
      }
    },
    {
      "cell_type": "markdown",
      "source": [
        "# (3)"
      ],
      "metadata": {
        "id": "Uyfw3Y245FQs"
      }
    }
  ]
}